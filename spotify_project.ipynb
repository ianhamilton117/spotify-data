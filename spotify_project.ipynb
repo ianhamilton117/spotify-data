{
 "cells": [
  {
   "cell_type": "code",
   "execution_count": 1,
   "id": "c9752bbb",
   "metadata": {},
   "outputs": [],
   "source": [
    "import requests\n",
    "import json"
   ]
  },
  {
   "cell_type": "markdown",
   "id": "647994bb",
   "metadata": {},
   "source": [
    "Function to request an access token from Spotify API. Can be called again when token expires."
   ]
  },
  {
   "cell_type": "code",
   "execution_count": 2,
   "id": "d4d6f7f3",
   "metadata": {},
   "outputs": [],
   "source": [
    "def getToken():\n",
    "    api_endpoint = 'https://accounts.spotify.com/api/token'\n",
    "    headers = {'Content-Type': 'application/x-www-form-urlencoded'}\n",
    "    with open('client_secret.txt', mode = 'r') as file:\n",
    "        secret = file.read()\n",
    "    data = {'grant_type': 'client_credentials',\n",
    "           'client_id': '7c39f7c70e664765b003dbdb0f09a59d',\n",
    "           'client_secret': secret}\n",
    "    response = requests.post(api_endpoint, headers=headers, data=data)\n",
    "    if response.ok:\n",
    "        print('Request for token succeded')\n",
    "        return response.json()['access_token']\n",
    "    else:\n",
    "        print('Request for token failed: ' + response.reason)"
   ]
  },
  {
   "cell_type": "code",
   "execution_count": null,
   "id": "a87015a9",
   "metadata": {},
   "outputs": [],
   "source": [
    "token = getToken()"
   ]
  },
  {
   "cell_type": "markdown",
   "id": "bb25b675",
   "metadata": {},
   "source": [
    "Function to send GET requests to Spotify API"
   ]
  },
  {
   "cell_type": "code",
   "execution_count": 10,
   "id": "6a73c160",
   "metadata": {},
   "outputs": [],
   "source": [
    "def sendGet(uri, retry = True):\n",
    "    url = 'https://api.spotify.com/v1/' + uri\n",
    "    global token\n",
    "    headers = {'Authorization': 'Bearer ' + token}\n",
    "    response = requests.get(url, headers=headers)\n",
    "    if response.ok:\n",
    "        return response.json()\n",
    "    elif response.status_code == 401 and retry == True:\n",
    "        token = getToken()\n",
    "        return sendGet(uri, False)\n",
    "    else:\n",
    "        print(json.dumps(response.json(), indent=4)) "
   ]
  },
  {
   "cell_type": "code",
   "execution_count": 14,
   "id": "38276045",
   "metadata": {},
   "outputs": [
    {
     "name": "stdout",
     "output_type": "stream",
     "text": [
      "{\n",
      "    \"external_urls\": {\n",
      "        \"spotify\": \"https://open.spotify.com/artist/4Z8W4fKeB5YxbusRsdQVPb\"\n",
      "    },\n",
      "    \"followers\": {\n",
      "        \"href\": null,\n",
      "        \"total\": 8622135\n",
      "    },\n",
      "    \"genres\": [\n",
      "        \"alternative rock\",\n",
      "        \"art rock\",\n",
      "        \"melancholia\",\n",
      "        \"oxford indie\",\n",
      "        \"permanent wave\",\n",
      "        \"rock\"\n",
      "    ],\n",
      "    \"href\": \"https://api.spotify.com/v1/artists/4Z8W4fKeB5YxbusRsdQVPb\",\n",
      "    \"id\": \"4Z8W4fKeB5YxbusRsdQVPb\",\n",
      "    \"images\": [\n",
      "        {\n",
      "            \"height\": 640,\n",
      "            \"url\": \"https://i.scdn.co/image/ab6761610000e5eba03696716c9ee605006047fd\",\n",
      "            \"width\": 640\n",
      "        },\n",
      "        {\n",
      "            \"height\": 320,\n",
      "            \"url\": \"https://i.scdn.co/image/ab67616100005174a03696716c9ee605006047fd\",\n",
      "            \"width\": 320\n",
      "        },\n",
      "        {\n",
      "            \"height\": 160,\n",
      "            \"url\": \"https://i.scdn.co/image/ab6761610000f178a03696716c9ee605006047fd\",\n",
      "            \"width\": 160\n",
      "        }\n",
      "    ],\n",
      "    \"name\": \"Radiohead\",\n",
      "    \"popularity\": 78,\n",
      "    \"type\": \"artist\",\n",
      "    \"uri\": \"spotify:artist:4Z8W4fKeB5YxbusRsdQVPb\"\n",
      "}\n"
     ]
    }
   ],
   "source": [
    "response = sendGet('artists/4Z8W4fKeB5YxbusRsdQVPb')\n",
    "print(json.dumps(response, indent=4))"
   ]
  },
  {
   "cell_type": "code",
   "execution_count": null,
   "id": "14de44dc",
   "metadata": {},
   "outputs": [],
   "source": []
  }
 ],
 "metadata": {
  "kernelspec": {
   "display_name": "Python 3 (ipykernel)",
   "language": "python",
   "name": "python3"
  },
  "language_info": {
   "codemirror_mode": {
    "name": "ipython",
    "version": 3
   },
   "file_extension": ".py",
   "mimetype": "text/x-python",
   "name": "python",
   "nbconvert_exporter": "python",
   "pygments_lexer": "ipython3",
   "version": "3.10.9"
  }
 },
 "nbformat": 4,
 "nbformat_minor": 5
}
